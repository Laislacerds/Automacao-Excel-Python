{
 "cells": [
  {
   "cell_type": "code",
   "execution_count": 56,
   "id": "1b5b1227-e73c-4f75-a01d-9bcdd478e2ea",
   "metadata": {
    "tags": []
   },
   "outputs": [],
   "source": [
    "import pyautogui\n",
    "\n",
    "pyautogui.PAUSE = 3\n",
    "\n",
    "#primeiro passo é abrir a ferramenta\n",
    "pyautogui.press(\"win\")\n",
    "pyautogui.write(\"Login.xlsx\")\n",
    "pyautogui.press(\"enter\")\n",
    "\n",
    "#Preencher login\n",
    "pyautogui.click(x=301, y=301)\n", #posição onde o bot deve clicar, não esqueça de ajustar a posição a sua tela!
    "pyautogui.write(\"Lais\")\n",
    "\n",
    "#Preencher senha\n",
    "pyautogui.click(x=431, y=340)\n",
    "pyautogui.write(\"1234\")\n",
    "\n",
    "#clicar em fazer login\n",
    "pyautogui.click(x=409, y=429)\n",
    "\n",
    "#clicar em voltar\n",
    "pyautogui.click(x=699, y=572)\n",
    "\n",
    "#clicr em apagar para continuar a automação\n",
    "#Login\n",
    "pyautogui.click(x=471, y=294)\n",
    "pyautogui.press(\"backspace\")\n",
    "\n",
    "#Senha\n",
    "pyautogui.click(x=431, y=340)\n",
    "pyautogui.press(\"backspace\")\n",
    "\n",
    "\n"
   ]
  },
  {
   "cell_type": "code",
   "execution_count": 55,
   "id": "2ba31ae8-8a64-4e89-9463-823630f9557b",
   "metadata": {
    "tags": []
   },
   "outputs": [
    {
     "data": {
      "text/plain": [
       "Point(x=301, y=301)"
      ]
     },
     "execution_count": 55,
     "metadata": {},
     "output_type": "execute_result"
    }
   ],
   "source": [
    "import time\n",
    "\n",
    "time.sleep(8)\n",
    "pyautogui.position()"
   ]
  },
  {
   "cell_type": "code",
   "execution_count": null,
   "id": "e45c94ad-cbc7-45e1-985b-939a209788ab",
   "metadata": {},
   "outputs": [],
   "source": []
  }
 ],
 "metadata": {
  "kernelspec": {
   "display_name": "Python 3 (ipykernel)",
   "language": "python",
   "name": "python3"
  },
  "language_info": {
   "codemirror_mode": {
    "name": "ipython",
    "version": 3
   },
   "file_extension": ".py",
   "mimetype": "text/x-python",
   "name": "python",
   "nbconvert_exporter": "python",
   "pygments_lexer": "ipython3",
   "version": "3.11.4"
  }
 },
 "nbformat": 4,
 "nbformat_minor": 5
}
